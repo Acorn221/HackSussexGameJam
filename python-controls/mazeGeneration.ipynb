{
 "cells": [
  {
   "cell_type": "code",
   "execution_count": 90,
   "metadata": {},
   "outputs": [],
   "source": [
    "import matplotlib.pyplot as plt\n",
    "\n",
    "def showPNG(grid):\n",
    "    \"\"\"Generate a simple image of the maze.\"\"\"\n",
    "    plt.figure(figsize=(10, 10))\n",
    "    plt.imshow(grid, cmap=plt.cm.binary, interpolation='nearest')\n",
    "    plt.xticks([]), plt.yticks([])\n",
    "    plt.show()"
   ]
  },
  {
   "cell_type": "code",
   "execution_count": 91,
   "metadata": {},
   "outputs": [],
   "source": [
    "def findClosestFreeSpace(x, y, maze):\n",
    "    dx = [0, 0, -1, 1]\n",
    "    dy = [-1, 1, 0, 0]\n",
    "    visited = [[False for _ in range(len(maze[0]))] for _ in range(len(maze))]\n",
    "\n",
    "    queue = [(x, y, 0)] # (x, y, distance)\n",
    "    while queue:\n",
    "        x, y, d = queue.pop(0)\n",
    "\n",
    "        if maze[x][y] == 0:\n",
    "            return (x, y)\n",
    "\n",
    "        for i in range(4):\n",
    "            nx, ny = x + dx[i], y + dy[i]\n",
    "            if nx >= 0 and ny >= 0 and nx < len(maze) and ny < len(maze[0]) and not visited[nx][ny]:\n",
    "                visited[nx][ny] = True\n",
    "                queue.append((nx, ny, d + 1))\n",
    "    \n",
    "    return None # if no free space is found"
   ]
  },
  {
   "cell_type": "code",
   "execution_count": 92,
   "metadata": {},
   "outputs": [
    {
     "ename": "SyntaxError",
     "evalue": "invalid syntax (4210088494.py, line 4)",
     "output_type": "error",
     "traceback": [
      "\u001b[1;36m  Cell \u001b[1;32mIn[92], line 4\u001b[1;36m\u001b[0m\n\u001b[1;33m    maze =\u001b[0m\n\u001b[1;37m           ^\u001b[0m\n\u001b[1;31mSyntaxError\u001b[0m\u001b[1;31m:\u001b[0m invalid syntax\n"
     ]
    }
   ],
   "source": [
    "mazes = []\n",
    "\n",
    "for i in range(30):\n",
    "\tmaze = \n",
    "\n",
    "spawnPoint = findClosestFreeSpace(0, 0, m.grid)\n",
    "endPoint = findClosestFreeSpace(round(len(m.grid)/2) - 1, round(len(m.grid[0])/2) - 1, m.grid)\n",
    "\n",
    "coinAreas = []\n",
    "\n",
    "for i in range(30):\n",
    "\tcoinAreas.append(findClosestFreeSpace(random.randint(0, round(len(m.grid)/2) - 1), random.randint(0, round(len(m.grid[0])/2) - 1), m.grid))\n",
    "\n",
    "print(f\"Spawn point: {spawnPoint}, End point: {endPoint}, Coin areas: {coinAreas}\")"
   ]
  },
  {
   "cell_type": "code",
   "execution_count": null,
   "metadata": {},
   "outputs": [
    {
     "data": {
      "text/plain": [
       "33"
      ]
     },
     "execution_count": 87,
     "metadata": {},
     "output_type": "execute_result"
    }
   ],
   "source": [
    "random.randint(0, round(len(m.grid)/2) - 1)"
   ]
  },
  {
   "cell_type": "code",
   "execution_count": null,
   "metadata": {},
   "outputs": [
    {
     "data": {
      "image/png": "[encoded data removed]",
      "text/plain": [
       "<Figure size 1000x1000 with 1 Axes>"
      ]
     },
     "metadata": {},
     "output_type": "display_data"
    }
   ],
   "source": [
    "showPNG(m.grid)"
   ]
  },
  {
   "cell_type": "code",
   "execution_count": null,
   "metadata": {},
   "outputs": [],
   "source": [
    "# save the maze to a json\n",
    "import json\n",
    "\n",
    "maze = {\n",
    "\t\"spawnPoint\": spawnPoint,\n",
    "\t\"endPoint\": endPoint,\n",
    "\t\"coinAreas\": coinAreas,\n",
    "\t\"grid\": m.grid.tolist()\n",
    "}\n",
    "\n",
    "with open(\"maze.json\", \"w\") as f:\n",
    "\tjson.dump(maze, f)"
   ]
  }
 ],
 "metadata": {
  "kernelspec": {
   "display_name": "Python 3",
   "language": "python",
   "name": "python3"
  },
  "language_info": {
   "codemirror_mode": {
    "name": "ipython",
    "version": 3
   },
   "file_extension": ".py",
   "mimetype": "text/x-python",
   "name": "python",
   "nbconvert_exporter": "python",
   "pygments_lexer": "ipython3",
   "version": "3.10.7"
  }
 },
 "nbformat": 4,
 "nbformat_minor": 2
}
